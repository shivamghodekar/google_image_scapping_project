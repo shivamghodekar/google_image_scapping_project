{
 "cells": [
  {
   "cell_type": "markdown",
   "id": "fbae4e2a-30ac-4ff6-88bf-fcb3a063db81",
   "metadata": {},
   "source": [
    "# Google Image Scrapping"
   ]
  },
  {
   "cell_type": "code",
   "execution_count": 1,
   "id": "86f15bf8-0361-44b5-98e8-5fd270bd8cb7",
   "metadata": {},
   "outputs": [],
   "source": [
    "# import all the modules for scrapping the images \n",
    "import requests\n",
    "from bs4 import BeautifulSoup\n",
    "from urllib.request import urlopen as uReq\n",
    "import logging\n",
    "import os # operating system "
   ]
  },
  {
   "cell_type": "code",
   "execution_count": 4,
   "id": "bbccecee-a644-4a82-a9a3-79957c87b012",
   "metadata": {},
   "outputs": [],
   "source": [
    "# create directory for storing the images\n",
    "save_dir = 'images/'\n",
    "if not os.path.exists(save_dir):\n",
    "    os.makedirs(save_dir)"
   ]
  },
  {
   "cell_type": "code",
   "execution_count": 5,
   "id": "4b7c343f-685a-4ffb-9a1f-f2c0819a2dc3",
   "metadata": {},
   "outputs": [],
   "source": [
    "header = {'User-Agent : Chrome/58.0.3029.110 (Windows NT 10.0; Win64; x64) Safari/537.36 (KHTML, like Gecko)'}"
   ]
  },
  {
   "cell_type": "code",
   "execution_count": 12,
   "id": "b5650824-ea51-40e1-9cf4-f6414b5865be",
   "metadata": {},
   "outputs": [],
   "source": [
    "query = 'apj abdul kalam'\n",
    "response = requests.get(f'https://www.google.com/search?q={query}&sca_esv=142c9ca5902e0fcb&rlz=1C1CHBF_enIN1159IN1159&udm=2&biw=1366&bih=633&sxsrf=AE3TifOg-XLjT-Br5Ia2cjMsPphDV3YAuw%3A1756183696225&ei=kDytaNTBDZ2QseMPn56imQM&oq=abdul+kalam&gs_lp=Egtnd3Mtd2l6LWltZyILYWJkdWwga2FsYW0qAggAMgYQABgHGB4yDRAAGIAEGIoFGEMYsQMyBhAAGAcYHjIGEAAYBxgeMgYQABgHGB4yBhAAGAcYHjIGEAAYBxgeMgYQABgHGB4yBhAAGAcYHjIGEAAYBxgeSMcTUABYAHABeACQAQCYAQCgAQCqAQC4AQHIAQCYAgGgAhOYAwCIBgGSBwExoAcAsgcAuAcAwgcDMy0xyAcQ&sclient=gws-wiz-img')"
   ]
  },
  {
   "cell_type": "code",
   "execution_count": 13,
   "id": "cbd8ef78-9cfa-4cc8-bc54-a96c1ef3f72a",
   "metadata": {},
   "outputs": [
    {
     "data": {
      "text/plain": [
       "<Response [200]>"
      ]
     },
     "execution_count": 13,
     "metadata": {},
     "output_type": "execute_result"
    }
   ],
   "source": [
    "response # <Response [200]> - 200 images url"
   ]
  },
  {
   "cell_type": "code",
   "execution_count": 14,
   "id": "82ac3236-04bf-4a26-bb5b-565b4defef11",
   "metadata": {},
   "outputs": [],
   "source": [
    "soup = BeautifulSoup(response.content, 'html.parser') # for extracting the image url"
   ]
  },
  {
   "cell_type": "code",
   "execution_count": 15,
   "id": "ad05c5de-f449-439e-9ed2-d18fd96aa400",
   "metadata": {},
   "outputs": [
    {
     "data": {
      "text/plain": [
       "<!DOCTYPE html PUBLIC \"-//WAPFORUM//DTD XHTML Mobile 1.0//EN\" \"http://www.wapforum.org/DTD/xhtml-mobile10.dtd\">\n",
       "<html lang=\"en-IN\" xmlns=\"http://www.w3.org/1999/xhtml\"><head><meta content=\"application/xhtml+xml; charset=utf-8\" http-equiv=\"Content-Type\"/><meta content=\"no-cache\" name=\"Cache-Control\"/><title>apj abdul kalam - Google Search</title><style>a{text-decoration:none;color:inherit}a:hover{text-decoration:underline}a img{border:0}body{font-family:sans-serif;padding:8px;margin:0 auto;max-width:700px;min-width:240px;}.FbhRzb{border-left:thin solid #dadce0;border-right:thin solid #dadce0;border-top:thin solid #dadce0;height:40px;overflow:hidden}.n692Zd{margin-bottom:10px}.cvifge{height:40px;border-spacing:0}.QvGUP{height:40px;padding:0 8px 0 8px;vertical-align:top}.O4cRJf{height:40px;width:100%;padding:0;padding-right:14px}.O1ePr{height:40px;padding:0;vertical-align:top}.kgJEQe{height:36px;width:98px;vertical-align:top;margin-top:4px}.lXLRf{vertical-align:top}.MhzMZd{border:0;vertical-align:middle;font-size:14px;height:40px;padding:0;width:100%;padding-left:14px}.xB0fq{height:40px;border:none;font-size:14px;background-color:#1a73e8;color:#fff;padding:0 14px;margin:0;vertical-align:top;cursor:pointer}.xB0fq:focus{border:1px solid #1a73e8}.M7pB2{border:thin solid #dadce0;margin:0 0 3px 0;font-size:13px;font-weight:500;height:40px}.euZec{width:100%;height:40px;text-align:center;border-spacing:0}table.euZec td{padding:0;width:25%}.QIqI7{display:inline-block;padding-top:4px;font-weight:bold;color:#4285f4}.EY24We{border-bottom:2px solid #4285f4}.CsQyDc{display:inline-block;color:#70757a}.TuS8Ad{font-size:14px}.HddGcc{padding:8px;color:#70757a}.dzp8ae{font-weight:bold;color:#3c4043}.rEM8G{color:#70757a}.bookcf{table-layout:fixed;width:100%;border-spacing:0}.InWNIe{text-align:center}.uZgmoc{border:thin solid #dadce0;color:#70757a;font-size:14px;text-align:center;table-layout:fixed;width:100%}.frGj1b{display:block;padding:16px 0 12px 0;width:100%}.BnJWBc{text-align:center;padding:6px 0 13px 0;height:35px}.e3goi{vertical-align:top;padding:0;height:180px}.GpQGbf{margin:auto;border-collapse:collapse;border-spacing:0;width:100%}</style></head><body><style>.X6ZCif{color:#202124;font-size:11px;line-height:16px;display:inline-block;padding-top:2px;overflow:hidden;padding-bottom:4px;width:100%}.TwVfHd{border-radius:16px;border:thin solid #dadce0;display:inline-block;padding:8px 8px;margin-right:8px;margin-bottom:4px}.yekiAe{background-color:#dadce0}.jjVJ4e{width:100%}.ezO2md{border:thin solid #dadce0;padding:16px 14px 12px 14px;margin-bottom:10px;font-family:sans-serif}.lIMUZd{font-family:sans-serif}.RntSmf{border-spacing:0}.lgD2Tc{width:100%}.SpelHe{text-align:center}.SpelHe{position:relative}.kCmkOe{position:relative}.kCmkOe{width:162px;height:140px;line-height:140px;overflow:'hidden';text-align:center}.DS1iW{text-align:center;margin:auto;vertical-align:middle;max-width:162px;max-height:140px}.AlD19d{padding-top:2px;padding-bottom:8px;}.fYyStc{word-break:break-word}.ynsChf{display:block;white-space:nowrap;overflow:hidden;text-overflow:ellipsis}.Fj3V3b{color:#1967d2;font-size:14px;line-height:20px}.FrIlee{color:#202124;font-size:11px;line-height:16px}.F9iS2e{color:#70757a;font-size:11px;line-height:16px}.WMQ2Le{color:#70757a;font-size:12px;line-height:16px}.x3G5ab{color:#202124;font-size:12px;line-height:16px}.fuLhoc{color:#1967d2;font-size:16px;line-height:20px}.epoveb{font-size:24px;line-height:28px;font-weight:400;color:#202124}.dXDvrc{color:#0d652d;font-size:14px;line-height:20px;word-wrap:break-word}.dloBPe{font-weight:bold}.YVIcad{color:#70757a}.JkVVdd{color:#ea4335}.oXZRFd{color:#ea4335}.MQHtg{color:#fbbc04}.pyMRrb{color:#1e8e3e}.EtTZid{color:#1e8e3e}.M3vVJe{color:#1967d2}.qXLe6d{display:block}.NHQNef{font-style:italic}.Cb8Z7c{white-space:pre}a.ZWRArf{text-decoration:none}a .CVA68e:hover{text-decoration:underline}</style><div class=\"n692Zd\"><div class=\"BnJWBc\"><a class=\"lXLRf\" href=\"/?sca_esv=142c9ca5902e0fcb&amp;rlz=1C1CHBF_enIN1159IN1159&amp;biw=1366&amp;bih=633&amp;output=images&amp;ie=UTF-8&amp;tbm=isch&amp;sa=X&amp;ved=0ahUKEwjwmJue2qePAxWScmwGHbBLL_YQPAgC\"><img alt=\"Google\" class=\"kgJEQe\" src=\"/images/branding/searchlogo/1x/googlelogo_desk_heirloom_color_150x55dp.gif\"/></a></div><div class=\"FbhRzb\"><form action=\"/search\"><input name=\"sca_esv\" type=\"hidden\" value=\"142c9ca5902e0fcb\"/><input name=\"rlz\" type=\"hidden\" value=\"1C1CHBF_enIN1159IN1159\"/><input name=\"biw\" type=\"hidden\" value=\"1366\"/><input name=\"bih\" type=\"hidden\" value=\"633\"/><input name=\"ie\" type=\"hidden\" value=\"ISO-8859-1\"/><input name=\"tbm\" type=\"hidden\" value=\"isch\"/><input name=\"oq\" type=\"hidden\"/><input name=\"aqs\" type=\"hidden\"/><table class=\"cvifge\"><tr><td class=\"O4cRJf\"><input class=\"MhzMZd\" name=\"q\" type=\"text\" value=\"apj abdul kalam\"/></td><td class=\"O1ePr\"><input class=\"xB0fq\" type=\"submit\" value=\"Search\"/></td></tr></table></form></div><div class=\"M7pB2\"><table class=\"euZec\"><tbody><tr><td><a class=\"CsQyDc\" href=\"/search?q=apj+abdul+kalam&amp;sca_esv=142c9ca5902e0fcb&amp;rlz=1C1CHBF_enIN1159IN1159&amp;biw=1366&amp;bih=633&amp;ie=UTF-8&amp;source=lnms&amp;sa=X&amp;ved=0ahUKEwjwmJue2qePAxWScmwGHbBLL_YQ_AUIBCgA\">ALL</a></td><td class=\"EY24We\"><span class=\"QIqI7\">IMAGES</span></td><td><a class=\"CsQyDc\" href=\"/search?q=apj+abdul+kalam&amp;sca_esv=142c9ca5902e0fcb&amp;rlz=1C1CHBF_enIN1159IN1159&amp;biw=1366&amp;bih=633&amp;ie=UTF-8&amp;udm=36&amp;source=lnms&amp;sa=X&amp;ved=0ahUKEwjwmJue2qePAxWScmwGHbBLL_YQ_AUIBigC\">BOOKS</a></td><td><a class=\"CsQyDc\" href=\"/search?q=apj+abdul+kalam&amp;sca_esv=142c9ca5902e0fcb&amp;rlz=1C1CHBF_enIN1159IN1159&amp;biw=1366&amp;bih=633&amp;ie=UTF-8&amp;tbm=nws&amp;source=lnms&amp;sa=X&amp;ved=0ahUKEwjwmJue2qePAxWScmwGHbBLL_YQ_AUIBygD\">NEWS</a></td></tr></tbody></table></div></div><div><table class=\"GpQGbf\"><tr><td align=\"center\" class=\"e3goi\"><div class=\"jjVJ4e\"> <div> <div class=\"lIMUZd\"><div><table class=\"RntSmf\"><tr><td><a href=\"/url?q=https://en.wikipedia.org/wiki/A._P._J._Abdul_Kalam&amp;sa=U&amp;ved=2ahUKEwjwmJue2qePAxWScmwGHbBLL_YQqoUBegQIAhAB&amp;usg=AOvVaw00biUB4R3JUoUqw-COv-Eg\"><div class=\"kCmkOe\"><img alt=\"\" class=\"DS1iW\" src=\"https://encrypted-tbn0.gstatic.com/images?q=tbn:ANd9GcRt0lTRmI4syrQ7HoiFXsUc4YuCzzwBJjQvsQJfBNN_0kp8TdCu46JZ6PWk9A&amp;s\"/></div></a></td></tr><tr><td><a href=\"/url?q=https://en.wikipedia.org/wiki/A._P._J._Abdul_Kalam&amp;sa=U&amp;ved=2ahUKEwjwmJue2qePAxWScmwGHbBLL_YQr4kDegQIAhAC&amp;usg=AOvVaw1MT7GmM9QpbsqF61GGlMb3\"><div class=\"AlD19d\"> <span class=\"qXLe6d x3G5ab\"> <span class=\"fYyStc\">A. P. J. Abdul Kalam -...</span> </span> <span class=\"qXLe6d F9iS2e\"> <span class=\"fYyStc\">en.wikipedia.org</span> </span> </div></a></td></tr></table></div></div> </div> </div></td><td align=\"center\" class=\"e3goi\"><div class=\"jjVJ4e\"> <div> <div class=\"lIMUZd\"><div><table class=\"RntSmf\"><tr><td><a href=\"/url?q=https://www.britannica.com/biography/A-P-J-Abdul-Kalam&amp;sa=U&amp;ved=2ahUKEwjwmJue2qePAxWScmwGHbBLL_YQqoUBegQIBBAB&amp;usg=AOvVaw1qZiuqmYDNlZNXKF6CTsHq\"><div class=\"kCmkOe\"><img alt=\"\" class=\"DS1iW\" src=\"https://encrypted-tbn0.gstatic.com/images?q=tbn:ANd9GcRmwxHSTRRio5VQ08CSZenf0XHHxbHIxOXAZNCzMg_x8RbRgifCbPsgeIKlVA&amp;s\"/></div></a></td></tr><tr><td><a href=\"/url?q=https://www.britannica.com/biography/A-P-J-Abdul-Kalam&amp;sa=U&amp;ved=2ahUKEwjwmJue2qePAxWScmwGHbBLL_YQr4kDegQIBBAC&amp;usg=AOvVaw2VKlCEEKB5aOYiHYCp5Kwd\"><div class=\"AlD19d\"> <span class=\"qXLe6d x3G5ab\"> <span class=\"fYyStc\">A.P.J. Abdul Kalam |...</span> </span> <span class=\"qXLe6d F9iS2e\"> <span class=\"fYyStc\">www.britannica.com</span> </span> </div></a></td></tr></table></div></div> </div> </div></td><td align=\"center\" class=\"e3goi\"><div class=\"jjVJ4e\"> <div> <div class=\"lIMUZd\"><div><table class=\"RntSmf\"><tr><td><a href=\"/url?q=https://track2training.com/2021/07/29/a-p-j-abdul-kalam-biography-early-life-education-career-books-awards-more/&amp;sa=U&amp;ved=2ahUKEwjwmJue2qePAxWScmwGHbBLL_YQqoUBegQIFBAB&amp;usg=AOvVaw3srhcST2StAxd9Kwxi83CL\"><div class=\"kCmkOe\"><img alt=\"\" class=\"DS1iW\" src=\"https://encrypted-tbn0.gstatic.com/images?q=tbn:ANd9GcSKU5gVP1lKY31tccbfrQrEPYOKH3B8NHUd1c4ou13xz4CeljI_NUl4T4pcXs0&amp;s\"/></div></a></td></tr><tr><td><a href=\"/url?q=https://track2training.com/2021/07/29/a-p-j-abdul-kalam-biography-early-life-education-career-books-awards-more/&amp;sa=U&amp;ved=2ahUKEwjwmJue2qePAxWScmwGHbBLL_YQr4kDegQIFBAC&amp;usg=AOvVaw3F7-CY8zeTz3tPEizDzgjB\"><div class=\"AlD19d\"> <span class=\"qXLe6d x3G5ab\"> <span class=\"fYyStc\">A.P.J. Abdul Kalam...</span> </span> <span class=\"qXLe6d F9iS2e\"> <span class=\"fYyStc\">track2training.com</span> </span> </div></a></td></tr></table></div></div> </div> </div></td><td align=\"center\" class=\"e3goi\"><div class=\"jjVJ4e\"> <div> <div class=\"lIMUZd\"><div><table class=\"RntSmf\"><tr><td><a href=\"/url?q=https://www.britannica.com/biography/A-P-J-Abdul-Kalam&amp;sa=U&amp;ved=2ahUKEwjwmJue2qePAxWScmwGHbBLL_YQqoUBegQIExAB&amp;usg=AOvVaw1l-cpqhYWX9IBWLBFzQG-C\"><div class=\"kCmkOe\"><img alt=\"\" class=\"DS1iW\" src=\"https://encrypted-tbn0.gstatic.com/images?q=tbn:ANd9GcTNluG8RYbAkc9DDoEIJa5R0dW5VG9LjQdk7PDhJN6GzNTJ3zjUmrO_LodkpQ&amp;s\"/></div></a></td></tr><tr><td><a href=\"/url?q=https://www.britannica.com/biography/A-P-J-Abdul-Kalam&amp;sa=U&amp;ved=2ahUKEwjwmJue2qePAxWScmwGHbBLL_YQr4kDegQIExAC&amp;usg=AOvVaw1Vvyu5Cg9O27-8U6kP8-AI\"><div class=\"AlD19d\"> <span class=\"qXLe6d x3G5ab\"> <span class=\"fYyStc\">A.P.J. Abdul Kalam |...</span> </span> <span class=\"qXLe6d F9iS2e\"> <span class=\"fYyStc\">www.britannica.com</span> </span> </div></a></td></tr></table></div></div> </div> </div></td></tr><tr><td align=\"center\" class=\"e3goi\"><div class=\"jjVJ4e\"> <div> <div class=\"lIMUZd\"><div><table class=\"RntSmf\"><tr><td><a href=\"/url?q=https://www.amazon.in/Dr-APJ-Abdul-Kalam-Multifaceted-ebook/dp/B0CPWVY3SS&amp;sa=U&amp;ved=2ahUKEwjwmJue2qePAxWScmwGHbBLL_YQqoUBegQIEhAB&amp;usg=AOvVaw2wDq8UduSDO2IOwCCm6qxd\"><div class=\"kCmkOe\"><img alt=\"\" class=\"DS1iW\" src=\"https://encrypted-tbn0.gstatic.com/images?q=tbn:ANd9GcSUZk8mfUrbUEQulteVNNbVE8b1clgd8SAP6oClFMZQWReKggj9i17UYTQvhcE&amp;s\"/></div></a></td></tr><tr><td><a href=\"/url?q=https://www.amazon.in/Dr-APJ-Abdul-Kalam-Multifaceted-ebook/dp/B0CPWVY3SS&amp;sa=U&amp;ved=2ahUKEwjwmJue2qePAxWScmwGHbBLL_YQr4kDegQIEhAC&amp;usg=AOvVaw2Z4VXGMVAGQODcuCk8Q-dv\"><div class=\"AlD19d\"> <span class=\"qXLe6d x3G5ab\"> <span class=\"fYyStc\">Dr. APJ Abdul Kalam: A...</span> </span> <span class=\"qXLe6d F9iS2e\"> <span class=\"fYyStc\">www.amazon.in</span> </span> </div></a></td></tr></table></div></div> </div> </div></td><td align=\"center\" class=\"e3goi\"><div class=\"jjVJ4e\"> <div> <div class=\"lIMUZd\"><div><table class=\"RntSmf\"><tr><td><a href=\"/url?q=https://www.aakash.ac.in/blog/a-p-j-abdul-kalam-biography-early-life-education-interest-achievements/&amp;sa=U&amp;ved=2ahUKEwjwmJue2qePAxWScmwGHbBLL_YQqoUBegQIDxAB&amp;usg=AOvVaw2mA-EtQu9cbMrhTzSnpMb4\"><div class=\"kCmkOe\"><img alt=\"\" class=\"DS1iW\" src=\"https://encrypted-tbn0.gstatic.com/images?q=tbn:ANd9GcQCxW8RXXxpDCupwZYndphU-9iQu7h40BQRr9JrGdM99cmkdov9wz6x-8WtISY&amp;s\"/></div></a></td></tr><tr><td><a href=\"/url?q=https://www.aakash.ac.in/blog/a-p-j-abdul-kalam-biography-early-life-education-interest-achievements/&amp;sa=U&amp;ved=2ahUKEwjwmJue2qePAxWScmwGHbBLL_YQr4kDegQIDxAC&amp;usg=AOvVaw3vjFuBOBN6EOefKcN94Dhh\"><div class=\"AlD19d\"> <span class=\"qXLe6d x3G5ab\"> <span class=\"fYyStc\">A.P.J. Abdul Kalam -...</span> </span> <span class=\"qXLe6d F9iS2e\"> <span class=\"fYyStc\">www.aakash.ac.in</span> </span> </div></a></td></tr></table></div></div> </div> </div></td><td align=\"center\" class=\"e3goi\"><div class=\"jjVJ4e\"> <div> <div class=\"lIMUZd\"><div><table class=\"RntSmf\"><tr><td><a href=\"/url?q=https://en.wikipedia.org/wiki/Aurangzeb_Road&amp;sa=U&amp;ved=2ahUKEwjwmJue2qePAxWScmwGHbBLL_YQqoUBegQIDRAB&amp;usg=AOvVaw1Ufm7MRhmLIsBt-NXXuMmK\"><div class=\"kCmkOe\"><img alt=\"\" class=\"DS1iW\" src=\"https://encrypted-tbn0.gstatic.com/images?q=tbn:ANd9GcTWAXiJyUNogriCfXJINvD1oLngiXPgGxqnkl4Sj1Rb2htU3UXvZS2dd1wHSA&amp;s\"/></div></a></td></tr><tr><td><a href=\"/url?q=https://en.wikipedia.org/wiki/Aurangzeb_Road&amp;sa=U&amp;ved=2ahUKEwjwmJue2qePAxWScmwGHbBLL_YQr4kDegQIDRAC&amp;usg=AOvVaw0ib4Ioa5WxECUBJ29ARPdj\"><div class=\"AlD19d\"> <span class=\"qXLe6d x3G5ab\"> <span class=\"fYyStc\">Aurangzeb Road - Wikipedia</span> </span> <span class=\"qXLe6d F9iS2e\"> <span class=\"fYyStc\">en.wikipedia.org</span> </span> </div></a></td></tr></table></div></div> </div> </div></td><td align=\"center\" class=\"e3goi\"><div class=\"jjVJ4e\"> <div> <div class=\"lIMUZd\"><div><table class=\"RntSmf\"><tr><td><a href=\"/url?q=https://kashmirobserver.net/2020/07/27/remembering-dr-a-p-j-abdul-kalam/&amp;sa=U&amp;ved=2ahUKEwjwmJue2qePAxWScmwGHbBLL_YQqoUBegQIERAB&amp;usg=AOvVaw0_0N-ROQqs1lZUNcwcDUN1\"><div class=\"kCmkOe\"><img alt=\"\" class=\"DS1iW\" src=\"https://encrypted-tbn0.gstatic.com/images?q=tbn:ANd9GcRPIzGFtphhj0Sm1AzNYZXe91pAlkea88NpFvVB2FQihZF4TbYdBfiWdb8-UQ&amp;s\"/></div></a></td></tr><tr><td><a href=\"/url?q=https://kashmirobserver.net/2020/07/27/remembering-dr-a-p-j-abdul-kalam/&amp;sa=U&amp;ved=2ahUKEwjwmJue2qePAxWScmwGHbBLL_YQr4kDegQIERAC&amp;usg=AOvVaw0bn7FA_lQW9bHDwkRgCVGA\"><div class=\"AlD19d\"> <span class=\"qXLe6d x3G5ab\"> <span class=\"fYyStc\">Remembering Dr A.P.J Abdul...</span> </span> <span class=\"qXLe6d F9iS2e\"> <span class=\"fYyStc\">kashmirobserver.net</span> </span> </div></a></td></tr></table></div></div> </div> </div></td></tr><tr><td align=\"center\" class=\"e3goi\"><div class=\"jjVJ4e\"> <div> <div class=\"lIMUZd\"><div><table class=\"RntSmf\"><tr><td><a href=\"/url?q=https://m.economictimes.com/news/india/inspiring-visionary-pm-modi-pays-homage-to-former-president-apj-abdul-kalam-on-10th-death-anniversary/articleshow/122932278.cms&amp;sa=U&amp;ved=2ahUKEwjwmJue2qePAxWScmwGHbBLL_YQqoUBegQIEBAB&amp;usg=AOvVaw2L6y_IZZ2ibPm3yhIn3WGX\"><div class=\"kCmkOe\"><img alt=\"\" class=\"DS1iW\" src=\"https://encrypted-tbn0.gstatic.com/images?q=tbn:ANd9GcRtWhahJ0A97qJGnx-virXpQy4SarSrfFp97SAHrJ7mAFYkBrgexu2vY9omuGE&amp;s\"/></div></a></td></tr><tr><td><a href=\"/url?q=https://m.economictimes.com/news/india/inspiring-visionary-pm-modi-pays-homage-to-former-president-apj-abdul-kalam-on-10th-death-anniversary/articleshow/122932278.cms&amp;sa=U&amp;ved=2ahUKEwjwmJue2qePAxWScmwGHbBLL_YQr4kDegQIEBAC&amp;usg=AOvVaw1F_p-QoMAiVEXL1KsXi_To\"><div class=\"AlD19d\"> <span class=\"qXLe6d x3G5ab\"> <span class=\"fYyStc\">Inspiring visionary\": PM...</span> </span> <span class=\"qXLe6d F9iS2e\"> <span class=\"fYyStc\">m.economictimes.com</span> </span> </div></a></td></tr></table></div></div> </div> </div></td><td align=\"center\" class=\"e3goi\"><div class=\"jjVJ4e\"> <div> <div class=\"lIMUZd\"><div><table class=\"RntSmf\"><tr><td><a href=\"/url?q=https://rupapublications.co.in/author-detail/apj-abdul-kalam&amp;sa=U&amp;ved=2ahUKEwjwmJue2qePAxWScmwGHbBLL_YQqoUBegQIDhAB&amp;usg=AOvVaw0lZo0MGlRWe-zEP3pl_6pg\"><div class=\"kCmkOe\"><img alt=\"\" class=\"DS1iW\" src=\"https://encrypted-tbn0.gstatic.com/images?q=tbn:ANd9GcQTJVhXt_usqdI1ziA252Kyz2myv5_f-vJHBIl1XT4gxsFy36uKIqY7cglEOFA&amp;s\"/></div></a></td></tr><tr><td><a href=\"/url?q=https://rupapublications.co.in/author-detail/apj-abdul-kalam&amp;sa=U&amp;ved=2ahUKEwjwmJue2qePAxWScmwGHbBLL_YQr4kDegQIDhAC&amp;usg=AOvVaw0wnjPs_3QGT43f-jJLaj1b\"><div class=\"AlD19d\"> <span class=\"qXLe6d x3G5ab\"> <span class=\"fYyStc\">A.P.J. Abdul Kalam |...</span> </span> <span class=\"qXLe6d F9iS2e\"> <span class=\"fYyStc\">rupapublications.co.in</span> </span> </div></a></td></tr></table></div></div> </div> </div></td><td align=\"center\" class=\"e3goi\"><div class=\"jjVJ4e\"> <div> <div class=\"lIMUZd\"><div><table class=\"RntSmf\"><tr><td><a href=\"/url?q=https://www.ciol.com/news/dr-apj-abdul-kalam-from-rocket-man-to-peoples-president-7315751&amp;sa=U&amp;ved=2ahUKEwjwmJue2qePAxWScmwGHbBLL_YQqoUBegQIDBAB&amp;usg=AOvVaw0hOFOhtSmHm35ipRJBZkmq\"><div class=\"kCmkOe\"><img alt=\"\" class=\"DS1iW\" src=\"https://encrypted-tbn0.gstatic.com/images?q=tbn:ANd9GcRPCMjwzChE9TRIgU02qxg1bYvwdUQjwkKhDNgTRDIZiFOsv3mXX5rZ-3vQWoU&amp;s\"/></div></a></td></tr><tr><td><a href=\"/url?q=https://www.ciol.com/news/dr-apj-abdul-kalam-from-rocket-man-to-peoples-president-7315751&amp;sa=U&amp;ved=2ahUKEwjwmJue2qePAxWScmwGHbBLL_YQr4kDegQIDBAC&amp;usg=AOvVaw0qyKeo7WxJDYnWqWDF6RG2\"><div class=\"AlD19d\"> <span class=\"qXLe6d x3G5ab\"> <span class=\"fYyStc\">Dr. APJ Abdul Kalam: From...</span> </span> <span class=\"qXLe6d F9iS2e\"> <span class=\"fYyStc\">www.ciol.com</span> </span> </div></a></td></tr></table></div></div> </div> </div></td><td align=\"center\" class=\"e3goi\"><div class=\"jjVJ4e\"> <div> <div class=\"lIMUZd\"><div><table class=\"RntSmf\"><tr><td><a href=\"/url?q=https://www.vedantu.com/blog/apj-abdul-kalam-death-anniversary&amp;sa=U&amp;ved=2ahUKEwjwmJue2qePAxWScmwGHbBLL_YQqoUBegQICxAB&amp;usg=AOvVaw19PLOFntPwkbb8ai5js4EN\"><div class=\"kCmkOe\"><img alt=\"\" class=\"DS1iW\" src=\"https://encrypted-tbn0.gstatic.com/images?q=tbn:ANd9GcTyJiy4maRN82YyuBVAkZINTxDMRRTmMxtUYpRyPcEeeYXSpRR9DNljxw0ET_c&amp;s\"/></div></a></td></tr><tr><td><a href=\"/url?q=https://www.vedantu.com/blog/apj-abdul-kalam-death-anniversary&amp;sa=U&amp;ved=2ahUKEwjwmJue2qePAxWScmwGHbBLL_YQr4kDegQICxAC&amp;usg=AOvVaw3REdh1bRuXSZq9FZQ9rTF-\"><div class=\"AlD19d\"> <span class=\"qXLe6d x3G5ab\"> <span class=\"fYyStc\">APJ Abdul Kalam Death...</span> </span> <span class=\"qXLe6d F9iS2e\"> <span class=\"fYyStc\">www.vedantu.com</span> </span> </div></a></td></tr></table></div></div> </div> </div></td></tr><tr><td align=\"center\" class=\"e3goi\"><div class=\"jjVJ4e\"> <div> <div class=\"lIMUZd\"><div><table class=\"RntSmf\"><tr><td><a href=\"/url?q=https://www.careerindia.com/news/2013/10/15/dr-a-p-j-abdul-kalam-contribution-towards-education-007009.html&amp;sa=U&amp;ved=2ahUKEwjwmJue2qePAxWScmwGHbBLL_YQqoUBegQIChAB&amp;usg=AOvVaw0vbibtigzaL_L1pc7JVJKX\"><div class=\"kCmkOe\"><img alt=\"\" class=\"DS1iW\" src=\"https://encrypted-tbn0.gstatic.com/images?q=tbn:ANd9GcQOxWCBhVz-DWgEuveX5PjVaYAxqnpPblUWjovFGeGJWC3W75VR592FL2nFNA&amp;s\"/></div></a></td></tr><tr><td><a href=\"/url?q=https://www.careerindia.com/news/2013/10/15/dr-a-p-j-abdul-kalam-contribution-towards-education-007009.html&amp;sa=U&amp;ved=2ahUKEwjwmJue2qePAxWScmwGHbBLL_YQr4kDegQIChAC&amp;usg=AOvVaw0xTJa04TB8_dMPQVqbKcd_\"><div class=\"AlD19d\"> <span class=\"qXLe6d x3G5ab\"> <span class=\"fYyStc\">Dr. A.P.J Abdul Kalam's...</span> </span> <span class=\"qXLe6d F9iS2e\"> <span class=\"fYyStc\">www.careerindia.com</span> </span> </div></a></td></tr></table></div></div> </div> </div></td><td align=\"center\" class=\"e3goi\"><div class=\"jjVJ4e\"> <div> <div class=\"lIMUZd\"><div><table class=\"RntSmf\"><tr><td><a href=\"/url?q=https://www.studycloud.in/e_library/content/718&amp;sa=U&amp;ved=2ahUKEwjwmJue2qePAxWScmwGHbBLL_YQqoUBegQIBRAB&amp;usg=AOvVaw1dWnHmPr7eSDFxzkiumWfv\"><div class=\"kCmkOe\"><img alt=\"\" class=\"DS1iW\" src=\"https://encrypted-tbn0.gstatic.com/images?q=tbn:ANd9GcRluCWWVzCkDp0-dfH_svDqRfXFHAQS7r_PsxtqCsmiYs_rW4e75d9WkfJAug&amp;s\"/></div></a></td></tr><tr><td><a href=\"/url?q=https://www.studycloud.in/e_library/content/718&amp;sa=U&amp;ved=2ahUKEwjwmJue2qePAxWScmwGHbBLL_YQr4kDegQIBRAC&amp;usg=AOvVaw0c4gjoq2RhK-OlmWi6lIWV\"><div class=\"AlD19d\"> <span class=\"qXLe6d x3G5ab\"> <span class=\"fYyStc\">StudyCloud</span> </span> <span class=\"qXLe6d F9iS2e\"> <span class=\"fYyStc\">www.studycloud.in</span> </span> </div></a></td></tr></table></div></div> </div> </div></td><td align=\"center\" class=\"e3goi\"><div class=\"jjVJ4e\"> <div> <div class=\"lIMUZd\"><div><table class=\"RntSmf\"><tr><td><a href=\"/url?q=https://www.shutterstock.com/search/apj-abdul-kalam%3Fimage_type%3Dillustration&amp;sa=U&amp;ved=2ahUKEwjwmJue2qePAxWScmwGHbBLL_YQqoUBegQIBxAB&amp;usg=AOvVaw3SSmnLNA09ZHT1wfzeS-XY\"><div class=\"kCmkOe\"><img alt=\"\" class=\"DS1iW\" src=\"https://encrypted-tbn0.gstatic.com/images?q=tbn:ANd9GcQ3NLrxA8WDCkp9FSDapYEn9WfIg540K1ciKI4OfJP05hWG3FgHKDTN0GOJ-Q&amp;s\"/></div></a></td></tr><tr><td><a href=\"/url?q=https://www.shutterstock.com/search/apj-abdul-kalam%3Fimage_type%3Dillustration&amp;sa=U&amp;ved=2ahUKEwjwmJue2qePAxWScmwGHbBLL_YQr4kDegQIBxAC&amp;usg=AOvVaw3C5zdKcHsrSr4sIEinu_Lu\"><div class=\"AlD19d\"> <span class=\"qXLe6d x3G5ab\"> <span class=\"fYyStc\">Apj Abdul Kalam: Over 41...</span> </span> <span class=\"qXLe6d F9iS2e\"> <span class=\"fYyStc\">www.shutterstock.com</span> </span> </div></a></td></tr></table></div></div> </div> </div></td><td align=\"center\" class=\"e3goi\"><div class=\"jjVJ4e\"> <div> <div class=\"lIMUZd\"><div><table class=\"RntSmf\"><tr><td><a href=\"/url?q=https://www.indiatoday.in/science/story/national-space-day-when-dr-apj-abdul-kalam-learnt-from-failure-and-isro-bounced-back-to-life-2586775-2024-08-23&amp;sa=U&amp;ved=2ahUKEwjwmJue2qePAxWScmwGHbBLL_YQqoUBegQIAxAB&amp;usg=AOvVaw3-AIvRyGm9IGQN-dOGrMka\"><div class=\"kCmkOe\"><img alt=\"\" class=\"DS1iW\" src=\"https://encrypted-tbn0.gstatic.com/images?q=tbn:ANd9GcRWkb5EgcCtLEw0mJwOVLAKF72rIL7x7sOWg-UZktMrkisxiYOAhUk4pmeoYeo&amp;s\"/></div></a></td></tr><tr><td><a href=\"/url?q=https://www.indiatoday.in/science/story/national-space-day-when-dr-apj-abdul-kalam-learnt-from-failure-and-isro-bounced-back-to-life-2586775-2024-08-23&amp;sa=U&amp;ved=2ahUKEwjwmJue2qePAxWScmwGHbBLL_YQr4kDegQIAxAC&amp;usg=AOvVaw33n1TipTjoUFRbaNQQfwmA\"><div class=\"AlD19d\"> <span class=\"qXLe6d x3G5ab\"> <span class=\"fYyStc\">When Dr APJ Abdul Kalam...</span> </span> <span class=\"qXLe6d F9iS2e\"> <span class=\"fYyStc\">www.indiatoday.in</span> </span> </div></a></td></tr></table></div></div> </div> </div></td></tr><tr><td align=\"center\" class=\"e3goi\"><div class=\"jjVJ4e\"> <div> <div class=\"lIMUZd\"><div><table class=\"RntSmf\"><tr><td><a href=\"/url?q=https://www.facebook.com/p/DrAPJ-Abdul-Kalam-100050217051468/&amp;sa=U&amp;ved=2ahUKEwjwmJue2qePAxWScmwGHbBLL_YQqoUBegQICBAB&amp;usg=AOvVaw2JmJ89n02U3ULq240JZrBn\"><div class=\"kCmkOe\"><img alt=\"\" class=\"DS1iW\" src=\"https://encrypted-tbn0.gstatic.com/images?q=tbn:ANd9GcToLS8MXMbxqeeNUV8KOO78NyODPrU6eH7kJpXDQro8qzP4lM1H74ngtCNXmE4&amp;s\"/></div></a></td></tr><tr><td><a href=\"/url?q=https://www.facebook.com/p/DrAPJ-Abdul-Kalam-100050217051468/&amp;sa=U&amp;ved=2ahUKEwjwmJue2qePAxWScmwGHbBLL_YQr4kDegQICBAC&amp;usg=AOvVaw0g2z1h7p0e6H-GXL_yyy6a\"><div class=\"AlD19d\"> <span class=\"qXLe6d x3G5ab\"> <span class=\"fYyStc\">Dr.APJ Abdul Kalam</span> </span> <span class=\"qXLe6d F9iS2e\"> <span class=\"fYyStc\">www.facebook.com</span> </span> </div></a></td></tr></table></div></div> </div> </div></td><td align=\"center\" class=\"e3goi\"><div class=\"jjVJ4e\"> <div> <div class=\"lIMUZd\"><div><table class=\"RntSmf\"><tr><td><a href=\"/url?q=https://igniteindiaeducation.com/dr-apj-abdul-kalams-enduring-legacy/&amp;sa=U&amp;ved=2ahUKEwjwmJue2qePAxWScmwGHbBLL_YQqoUBegQICRAB&amp;usg=AOvVaw0wVBIxKt7eDV9Dl7RVLil4\"><div class=\"kCmkOe\"><img alt=\"\" class=\"DS1iW\" src=\"https://encrypted-tbn0.gstatic.com/images?q=tbn:ANd9GcT48btd638ErTgnljNqfav3zyqSLChBZhW460OZN_SWoU9pvMoaViBA-RPQYw&amp;s\"/></div></a></td></tr><tr><td><a href=\"/url?q=https://igniteindiaeducation.com/dr-apj-abdul-kalams-enduring-legacy/&amp;sa=U&amp;ved=2ahUKEwjwmJue2qePAxWScmwGHbBLL_YQr4kDegQICRAC&amp;usg=AOvVaw1LG-SENSIdomL9iXSgQBo0\"><div class=\"AlD19d\"> <span class=\"qXLe6d x3G5ab\"> <span class=\"fYyStc\">Dr. APJ Abdul Kalam's...</span> </span> <span class=\"qXLe6d F9iS2e\"> <span class=\"fYyStc\">igniteindiaeducation.com</span> </span> </div></a></td></tr></table></div></div> </div> </div></td><td align=\"center\" class=\"e3goi\"><div class=\"jjVJ4e\"> <div> <div class=\"lIMUZd\"><div><table class=\"RntSmf\"><tr><td><a href=\"/url?q=https://primeview.co/remembering-apj-abdul-kalam-on-his-death-anniversary-with-his-inspiring-quotes/&amp;sa=U&amp;ved=2ahUKEwjwmJue2qePAxWScmwGHbBLL_YQqoUBegQIARAB&amp;usg=AOvVaw3Aw0vcMjEZ9qtXLHLwbSyX\"><div class=\"kCmkOe\"><img alt=\"\" class=\"DS1iW\" src=\"https://encrypted-tbn0.gstatic.com/images?q=tbn:ANd9GcTGu5hDG_UykpdFmlxs-Tbaq8IN3Sr7LxewqxPLdHRX8L4MBOVk9g9oQhRurNs&amp;s\"/></div></a></td></tr><tr><td><a href=\"/url?q=https://primeview.co/remembering-apj-abdul-kalam-on-his-death-anniversary-with-his-inspiring-quotes/&amp;sa=U&amp;ved=2ahUKEwjwmJue2qePAxWScmwGHbBLL_YQr4kDegQIARAC&amp;usg=AOvVaw0ZWqHIfy3ybhq-hReZ1t9W\"><div class=\"AlD19d\"> <span class=\"qXLe6d x3G5ab\"> <span class=\"fYyStc\">Remembering APJ Abdul Kalam...</span> </span> <span class=\"qXLe6d F9iS2e\"> <span class=\"fYyStc\">primeview.co</span> </span> </div></a></td></tr></table></div></div> </div> </div></td><td align=\"center\" class=\"e3goi\"><div class=\"jjVJ4e\"> <div> <div class=\"lIMUZd\"><div><table class=\"RntSmf\"><tr><td><a href=\"/url?q=https://www.bbc.com/news/world-asia-india-33685041&amp;sa=U&amp;ved=2ahUKEwjwmJue2qePAxWScmwGHbBLL_YQqoUBegQIBhAB&amp;usg=AOvVaw0S0J0N5nBl_ibxVkcAFc8v\"><div class=\"kCmkOe\"><img alt=\"\" class=\"DS1iW\" src=\"https://encrypted-tbn0.gstatic.com/images?q=tbn:ANd9GcT5FWHxE7QXmr_kfe6ZrY9xXUm0rMS2oitZDQ8ozRqiB3m1a_KXdM8AQ0f4xg&amp;s\"/></div></a></td></tr><tr><td><a href=\"/url?q=https://www.bbc.com/news/world-asia-india-33685041&amp;sa=U&amp;ved=2ahUKEwjwmJue2qePAxWScmwGHbBLL_YQr4kDegQIBhAC&amp;usg=AOvVaw02TpnqamtBkdjyBlI6e_5b\"><div class=\"AlD19d\"> <span class=\"qXLe6d x3G5ab\"> <span class=\"fYyStc\">Abdul Kalam: People's...</span> </span> <span class=\"qXLe6d F9iS2e\"> <span class=\"fYyStc\">www.bbc.com</span> </span> </div></a></td></tr></table></div></div> </div> </div></td></tr></table></div><table class=\"uZgmoc\"><tbody><td><a class=\"frGj1b\" href=\"/search?q=apj+abdul+kalam&amp;sca_esv=142c9ca5902e0fcb&amp;rlz=1C1CHBF_enIN1159IN1159&amp;biw=1366&amp;bih=633&amp;ie=UTF-8&amp;tbm=isch&amp;ei=6kCtaPD7EJLlseMPsJe9sQ8&amp;start=20&amp;sa=N\">Next &gt;</a></td></tbody></table><br/><div class=\"TuS8Ad\" data-ved=\"0ahUKEwjwmJue2qePAxWScmwGHbBLL_YQpyoIRQ\"><style>.VYM29{font-weight:bold}</style><div align=\"center\" class=\"HddGcc\"><span class=\"VYM29\">Nagpur, Maharashtra</span><span> - </span><span>From your IP address</span><span> - </span><a href=\"/url?q=https://support.google.com/websearch%3Fp%3Dws_settings_location%26hl%3Den-IN&amp;opi=89978449&amp;sa=U&amp;ved=0ahUKEwjwmJue2qePAxWScmwGHbBLL_YQty4IRg&amp;usg=AOvVaw334c9IJAXoelW3RAJODVqf\">Learn more</a></div><div align=\"center\"><a class=\"rEM8G\" href=\"/url?q=https://accounts.google.com/ServiceLogin%3Fcontinue%3Dhttps://www.google.com/search%253Fq%253Dapj%252Babdul%252Bkalam%2526sca_esv%253D142c9ca5902e0fcb%2526rlz%253D1C1CHBF_enIN1159IN1159%2526biw%253D1366%2526bih%253D633%2526sxsrf%253DAE3TifOg-XLjT-Br5Ia2cjMsPphDV3YAuw:1756183696225%2526ei%253DkDytaNTBDZ2QseMPn56imQM%2526oq%253Dabdul%252Bkalam%2526gs_lp%253DEgtnd3Mtd2l6LWltZyILYWJkdWwga2FsYW0qAggAMgYQABgHGB4yDRAAGIAEGIoFGEMYsQMyBhAAGAcYHjIGEAAYBxgeMgYQABgHGB4yBhAAGAcYHjIGEAAYBxgeMgYQABgHGB4yBhAAGAcYHjIGEAAYBxgeSMcTUABYAHABeACQAQCYAQCgAQCqAQC4AQHIAQCYAgGgAhOYAwCIBgGSBwExoAcAsgcAuAcAwgcDMy0xyAcQ%2526sclient%253Dgws-wiz-img%2526tbm%253Disch%26hl%3Den&amp;opi=89978449&amp;sa=U&amp;ved=0ahUKEwjwmJue2qePAxWScmwGHbBLL_YQxs8CCEc&amp;usg=AOvVaw07L8Cge28aEqHQh4Sp6lUh\">Sign in</a></div><div><table class=\"bookcf\"><tbody class=\"InWNIe\"><tr><td><a class=\"rEM8G\" href=\"https://www.google.com/preferences?hl=en&amp;sa=X&amp;ved=0ahUKEwjwmJue2qePAxWScmwGHbBLL_YQv5YECEg\">Settings</a></td><td><a class=\"rEM8G\" href=\"https://www.google.com/intl/en_in/policies/privacy/\">Privacy</a></td><td><a class=\"rEM8G\" href=\"https://www.google.com/intl/en_in/policies/terms/\">Terms</a></td></tr></tbody></table></div></div><div> </div></body></html>"
      ]
     },
     "execution_count": 15,
     "metadata": {},
     "output_type": "execute_result"
    }
   ],
   "source": [
    "soup"
   ]
  },
  {
   "cell_type": "code",
   "execution_count": 18,
   "id": "f4584dd7-89ae-4caa-8a4a-9082e2ef1722",
   "metadata": {},
   "outputs": [],
   "source": [
    "images_tags = soup.find_all('img') # to find only image data"
   ]
  },
  {
   "cell_type": "code",
   "execution_count": 19,
   "id": "67c9fc63-0cce-41a5-8deb-eb2c9ddca95e",
   "metadata": {
    "scrolled": true
   },
   "outputs": [
    {
     "data": {
      "text/plain": [
       "[<img alt=\"Google\" class=\"kgJEQe\" src=\"/images/branding/searchlogo/1x/googlelogo_desk_heirloom_color_150x55dp.gif\"/>,\n",
       " <img alt=\"\" class=\"DS1iW\" src=\"https://encrypted-tbn0.gstatic.com/images?q=tbn:ANd9GcRt0lTRmI4syrQ7HoiFXsUc4YuCzzwBJjQvsQJfBNN_0kp8TdCu46JZ6PWk9A&amp;s\"/>,\n",
       " <img alt=\"\" class=\"DS1iW\" src=\"https://encrypted-tbn0.gstatic.com/images?q=tbn:ANd9GcRmwxHSTRRio5VQ08CSZenf0XHHxbHIxOXAZNCzMg_x8RbRgifCbPsgeIKlVA&amp;s\"/>,\n",
       " <img alt=\"\" class=\"DS1iW\" src=\"https://encrypted-tbn0.gstatic.com/images?q=tbn:ANd9GcSKU5gVP1lKY31tccbfrQrEPYOKH3B8NHUd1c4ou13xz4CeljI_NUl4T4pcXs0&amp;s\"/>,\n",
       " <img alt=\"\" class=\"DS1iW\" src=\"https://encrypted-tbn0.gstatic.com/images?q=tbn:ANd9GcTNluG8RYbAkc9DDoEIJa5R0dW5VG9LjQdk7PDhJN6GzNTJ3zjUmrO_LodkpQ&amp;s\"/>,\n",
       " <img alt=\"\" class=\"DS1iW\" src=\"https://encrypted-tbn0.gstatic.com/images?q=tbn:ANd9GcSUZk8mfUrbUEQulteVNNbVE8b1clgd8SAP6oClFMZQWReKggj9i17UYTQvhcE&amp;s\"/>,\n",
       " <img alt=\"\" class=\"DS1iW\" src=\"https://encrypted-tbn0.gstatic.com/images?q=tbn:ANd9GcQCxW8RXXxpDCupwZYndphU-9iQu7h40BQRr9JrGdM99cmkdov9wz6x-8WtISY&amp;s\"/>,\n",
       " <img alt=\"\" class=\"DS1iW\" src=\"https://encrypted-tbn0.gstatic.com/images?q=tbn:ANd9GcTWAXiJyUNogriCfXJINvD1oLngiXPgGxqnkl4Sj1Rb2htU3UXvZS2dd1wHSA&amp;s\"/>,\n",
       " <img alt=\"\" class=\"DS1iW\" src=\"https://encrypted-tbn0.gstatic.com/images?q=tbn:ANd9GcRPIzGFtphhj0Sm1AzNYZXe91pAlkea88NpFvVB2FQihZF4TbYdBfiWdb8-UQ&amp;s\"/>,\n",
       " <img alt=\"\" class=\"DS1iW\" src=\"https://encrypted-tbn0.gstatic.com/images?q=tbn:ANd9GcRtWhahJ0A97qJGnx-virXpQy4SarSrfFp97SAHrJ7mAFYkBrgexu2vY9omuGE&amp;s\"/>,\n",
       " <img alt=\"\" class=\"DS1iW\" src=\"https://encrypted-tbn0.gstatic.com/images?q=tbn:ANd9GcQTJVhXt_usqdI1ziA252Kyz2myv5_f-vJHBIl1XT4gxsFy36uKIqY7cglEOFA&amp;s\"/>,\n",
       " <img alt=\"\" class=\"DS1iW\" src=\"https://encrypted-tbn0.gstatic.com/images?q=tbn:ANd9GcRPCMjwzChE9TRIgU02qxg1bYvwdUQjwkKhDNgTRDIZiFOsv3mXX5rZ-3vQWoU&amp;s\"/>,\n",
       " <img alt=\"\" class=\"DS1iW\" src=\"https://encrypted-tbn0.gstatic.com/images?q=tbn:ANd9GcTyJiy4maRN82YyuBVAkZINTxDMRRTmMxtUYpRyPcEeeYXSpRR9DNljxw0ET_c&amp;s\"/>,\n",
       " <img alt=\"\" class=\"DS1iW\" src=\"https://encrypted-tbn0.gstatic.com/images?q=tbn:ANd9GcQOxWCBhVz-DWgEuveX5PjVaYAxqnpPblUWjovFGeGJWC3W75VR592FL2nFNA&amp;s\"/>,\n",
       " <img alt=\"\" class=\"DS1iW\" src=\"https://encrypted-tbn0.gstatic.com/images?q=tbn:ANd9GcRluCWWVzCkDp0-dfH_svDqRfXFHAQS7r_PsxtqCsmiYs_rW4e75d9WkfJAug&amp;s\"/>,\n",
       " <img alt=\"\" class=\"DS1iW\" src=\"https://encrypted-tbn0.gstatic.com/images?q=tbn:ANd9GcQ3NLrxA8WDCkp9FSDapYEn9WfIg540K1ciKI4OfJP05hWG3FgHKDTN0GOJ-Q&amp;s\"/>,\n",
       " <img alt=\"\" class=\"DS1iW\" src=\"https://encrypted-tbn0.gstatic.com/images?q=tbn:ANd9GcRWkb5EgcCtLEw0mJwOVLAKF72rIL7x7sOWg-UZktMrkisxiYOAhUk4pmeoYeo&amp;s\"/>,\n",
       " <img alt=\"\" class=\"DS1iW\" src=\"https://encrypted-tbn0.gstatic.com/images?q=tbn:ANd9GcToLS8MXMbxqeeNUV8KOO78NyODPrU6eH7kJpXDQro8qzP4lM1H74ngtCNXmE4&amp;s\"/>,\n",
       " <img alt=\"\" class=\"DS1iW\" src=\"https://encrypted-tbn0.gstatic.com/images?q=tbn:ANd9GcT48btd638ErTgnljNqfav3zyqSLChBZhW460OZN_SWoU9pvMoaViBA-RPQYw&amp;s\"/>,\n",
       " <img alt=\"\" class=\"DS1iW\" src=\"https://encrypted-tbn0.gstatic.com/images?q=tbn:ANd9GcTGu5hDG_UykpdFmlxs-Tbaq8IN3Sr7LxewqxPLdHRX8L4MBOVk9g9oQhRurNs&amp;s\"/>,\n",
       " <img alt=\"\" class=\"DS1iW\" src=\"https://encrypted-tbn0.gstatic.com/images?q=tbn:ANd9GcT5FWHxE7QXmr_kfe6ZrY9xXUm0rMS2oitZDQ8ozRqiB3m1a_KXdM8AQ0f4xg&amp;s\"/>]"
      ]
     },
     "execution_count": 19,
     "metadata": {},
     "output_type": "execute_result"
    }
   ],
   "source": [
    "images_tags"
   ]
  },
  {
   "cell_type": "code",
   "execution_count": 20,
   "id": "c46d098e-91a6-4c58-bc84-6c64d0f548b5",
   "metadata": {},
   "outputs": [
    {
     "data": {
      "text/plain": [
       "21"
      ]
     },
     "execution_count": 20,
     "metadata": {},
     "output_type": "execute_result"
    }
   ],
   "source": [
    "len(images_tags)"
   ]
  },
  {
   "cell_type": "code",
   "execution_count": 22,
   "id": "a32256d5-ca9d-44e7-9962-091f1e0ad5ac",
   "metadata": {},
   "outputs": [],
   "source": [
    "del images_tags[0] # to remove other image like sketch, postrait etc"
   ]
  },
  {
   "cell_type": "code",
   "execution_count": 27,
   "id": "672d0278-89f0-452c-96be-5e299e5fa794",
   "metadata": {},
   "outputs": [],
   "source": [
    "img_data_mongo = []\n",
    "\n",
    "for i in images_tags:\n",
    "    image_url = i['src']\n",
    "    image_data = requests.get(image_url).content\n",
    "    my_dict = {'index':image_url, 'image':image_data}\n",
    "    img_data_mongo.append(my_dict)\n",
    "    \n",
    "    with open(os.path.join(save_dir, f'{query}_{images_tags.index(i)}.jpg'), 'wb') as f: # open in write binary format\n",
    "        f.write(image_data)"
   ]
  },
  {
   "cell_type": "code",
   "execution_count": null,
   "id": "81f497a3-ed5f-49ac-840e-af4938cc9135",
   "metadata": {},
   "outputs": [],
   "source": []
  }
 ],
 "metadata": {
  "kernelspec": {
   "display_name": "Python 3 (ipykernel)",
   "language": "python",
   "name": "python3"
  },
  "language_info": {
   "codemirror_mode": {
    "name": "ipython",
    "version": 3
   },
   "file_extension": ".py",
   "mimetype": "text/x-python",
   "name": "python",
   "nbconvert_exporter": "python",
   "pygments_lexer": "ipython3",
   "version": "3.12.7"
  }
 },
 "nbformat": 4,
 "nbformat_minor": 5
}
